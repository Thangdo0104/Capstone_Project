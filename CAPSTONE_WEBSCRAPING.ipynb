{
 "cells": [
  {
   "cell_type": "markdown",
   "id": "fff408bd",
   "metadata": {},
   "source": [
    "# **WEBSCRAPING DATA**\n"
   ]
  },
  {
   "cell_type": "code",
   "execution_count": 7,
   "id": "707fcd14",
   "metadata": {},
   "outputs": [],
   "source": [
    "import pandas as pd"
   ]
  },
  {
   "cell_type": "code",
   "execution_count": 1,
   "id": "25ee16f0",
   "metadata": {},
   "outputs": [],
   "source": [
    "url = \"https://cf-courses-data.s3.us.cloud-object-storage.appdomain.cloud/IBM-DA0321EN-SkillsNetwork/labs/datasets/Programming_Languages.html\""
   ]
  },
  {
   "cell_type": "code",
   "execution_count": 2,
   "id": "44b72692",
   "metadata": {},
   "outputs": [],
   "source": [
    "from bs4 import BeautifulSoup\n",
    "import requests"
   ]
  },
  {
   "cell_type": "markdown",
   "id": "87d6416f",
   "metadata": {},
   "source": [
    "**Download the webpage at the url**\n"
   ]
  },
  {
   "cell_type": "code",
   "execution_count": 3,
   "id": "73a1e92f",
   "metadata": {},
   "outputs": [],
   "source": [
    "data=requests.get(url).text"
   ]
  },
  {
   "cell_type": "code",
   "execution_count": 4,
   "id": "624d4d8e",
   "metadata": {},
   "outputs": [],
   "source": [
    "soup = BeautifulSoup(data, \"html5lib\")"
   ]
  },
  {
   "cell_type": "code",
   "execution_count": 8,
   "id": "87b7b938",
   "metadata": {},
   "outputs": [],
   "source": [
    "# in html anchor/link is represented by the tag <a>\n",
    "for link in soup.find_all('a'):  \n",
    "    print(link.get('href'))\n",
    "# in html image is represented by the tag <img>\n",
    "for link in soup.find_all('img'):\n",
    "    print(link.get('src'))"
   ]
  },
  {
   "cell_type": "code",
   "execution_count": 12,
   "id": "7dcc5c07",
   "metadata": {},
   "outputs": [
    {
     "data": {
      "text/html": [
       "<div>\n",
       "<style scoped>\n",
       "    .dataframe tbody tr th:only-of-type {\n",
       "        vertical-align: middle;\n",
       "    }\n",
       "\n",
       "    .dataframe tbody tr th {\n",
       "        vertical-align: top;\n",
       "    }\n",
       "\n",
       "    .dataframe thead th {\n",
       "        text-align: right;\n",
       "    }\n",
       "</style>\n",
       "<table border=\"1\" class=\"dataframe\">\n",
       "  <thead>\n",
       "    <tr style=\"text-align: right;\">\n",
       "      <th></th>\n",
       "      <th>Language Name</th>\n",
       "      <th>Average Salary</th>\n",
       "    </tr>\n",
       "  </thead>\n",
       "  <tbody>\n",
       "    <tr>\n",
       "      <th>1</th>\n",
       "      <td>Python</td>\n",
       "      <td>$114,383</td>\n",
       "    </tr>\n",
       "    <tr>\n",
       "      <th>2</th>\n",
       "      <td>Java</td>\n",
       "      <td>$101,013</td>\n",
       "    </tr>\n",
       "    <tr>\n",
       "      <th>3</th>\n",
       "      <td>R</td>\n",
       "      <td>$92,037</td>\n",
       "    </tr>\n",
       "    <tr>\n",
       "      <th>4</th>\n",
       "      <td>Javascript</td>\n",
       "      <td>$110,981</td>\n",
       "    </tr>\n",
       "    <tr>\n",
       "      <th>5</th>\n",
       "      <td>Swift</td>\n",
       "      <td>$130,801</td>\n",
       "    </tr>\n",
       "    <tr>\n",
       "      <th>6</th>\n",
       "      <td>C++</td>\n",
       "      <td>$113,865</td>\n",
       "    </tr>\n",
       "    <tr>\n",
       "      <th>7</th>\n",
       "      <td>C#</td>\n",
       "      <td>$88,726</td>\n",
       "    </tr>\n",
       "    <tr>\n",
       "      <th>8</th>\n",
       "      <td>PHP</td>\n",
       "      <td>$84,727</td>\n",
       "    </tr>\n",
       "    <tr>\n",
       "      <th>9</th>\n",
       "      <td>SQL</td>\n",
       "      <td>$84,793</td>\n",
       "    </tr>\n",
       "    <tr>\n",
       "      <th>10</th>\n",
       "      <td>Go</td>\n",
       "      <td>$94,082</td>\n",
       "    </tr>\n",
       "  </tbody>\n",
       "</table>\n",
       "</div>"
      ],
      "text/plain": [
       "   Language Name Average Salary\n",
       "1         Python       $114,383\n",
       "2           Java       $101,013\n",
       "3              R        $92,037\n",
       "4     Javascript       $110,981\n",
       "5          Swift       $130,801\n",
       "6            C++       $113,865\n",
       "7             C#        $88,726\n",
       "8            PHP        $84,727\n",
       "9            SQL        $84,793\n",
       "10            Go        $94,082"
      ]
     },
     "execution_count": 12,
     "metadata": {},
     "output_type": "execute_result"
    }
   ],
   "source": [
    "df = pd.DataFrame(columns=['Language Name', 'Average Salary'])\n",
    "\n",
    "for row in soup.find(\"tbody\").find_all(\"tr\"):\n",
    "  col = row.find_all(\"td\")\n",
    "  language = col[1].text\n",
    "  salary = col[3].text\n",
    "\n",
    "  df = df.append({'Language Name' : language, 'Average Salary' : salary}, ignore_index=True)\n",
    "\n",
    "#drop first row\n",
    "df.drop(index=df.index[0], axis=0, inplace=True)\n",
    "\n",
    "df"
   ]
  },
  {
   "cell_type": "code",
   "execution_count": 17,
   "id": "095c1d40",
   "metadata": {},
   "outputs": [
    {
     "data": {
      "text/html": [
       "<div>\n",
       "<style scoped>\n",
       "    .dataframe tbody tr th:only-of-type {\n",
       "        vertical-align: middle;\n",
       "    }\n",
       "\n",
       "    .dataframe tbody tr th {\n",
       "        vertical-align: top;\n",
       "    }\n",
       "\n",
       "    .dataframe thead th {\n",
       "        text-align: right;\n",
       "    }\n",
       "</style>\n",
       "<table border=\"1\" class=\"dataframe\">\n",
       "  <thead>\n",
       "    <tr style=\"text-align: right;\">\n",
       "      <th></th>\n",
       "      <th>A</th>\n",
       "      <th>B</th>\n",
       "    </tr>\n",
       "  </thead>\n",
       "  <tbody>\n",
       "    <tr>\n",
       "      <th>1</th>\n",
       "      <td>Python</td>\n",
       "      <td>$114,383</td>\n",
       "    </tr>\n",
       "    <tr>\n",
       "      <th>2</th>\n",
       "      <td>Java</td>\n",
       "      <td>$101,013</td>\n",
       "    </tr>\n",
       "    <tr>\n",
       "      <th>3</th>\n",
       "      <td>R</td>\n",
       "      <td>$92,037</td>\n",
       "    </tr>\n",
       "    <tr>\n",
       "      <th>4</th>\n",
       "      <td>Javascript</td>\n",
       "      <td>$110,981</td>\n",
       "    </tr>\n",
       "    <tr>\n",
       "      <th>5</th>\n",
       "      <td>Swift</td>\n",
       "      <td>$130,801</td>\n",
       "    </tr>\n",
       "    <tr>\n",
       "      <th>6</th>\n",
       "      <td>C++</td>\n",
       "      <td>$113,865</td>\n",
       "    </tr>\n",
       "    <tr>\n",
       "      <th>7</th>\n",
       "      <td>C#</td>\n",
       "      <td>$88,726</td>\n",
       "    </tr>\n",
       "    <tr>\n",
       "      <th>8</th>\n",
       "      <td>PHP</td>\n",
       "      <td>$84,727</td>\n",
       "    </tr>\n",
       "    <tr>\n",
       "      <th>9</th>\n",
       "      <td>SQL</td>\n",
       "      <td>$84,793</td>\n",
       "    </tr>\n",
       "    <tr>\n",
       "      <th>10</th>\n",
       "      <td>Go</td>\n",
       "      <td>$94,082</td>\n",
       "    </tr>\n",
       "  </tbody>\n",
       "</table>\n",
       "</div>"
      ],
      "text/plain": [
       "             A         B\n",
       "1       Python  $114,383\n",
       "2         Java  $101,013\n",
       "3            R   $92,037\n",
       "4   Javascript  $110,981\n",
       "5        Swift  $130,801\n",
       "6          C++  $113,865\n",
       "7           C#   $88,726\n",
       "8          PHP   $84,727\n",
       "9          SQL   $84,793\n",
       "10          Go   $94,082"
      ]
     },
     "execution_count": 17,
     "metadata": {},
     "output_type": "execute_result"
    }
   ],
   "source": [
    "df=pd.DataFrame()\n",
    "# in html table is represented by the tag <table>\n",
    "table = soup.find('table') \n",
    "# in html table row is represented by the tag <tr>\n",
    "for row in table.find_all('tr'): \n",
    "    # in html a column is represented by the tag <td>\n",
    "    cols = row.find_all('td') \n",
    "    # store the value in column 3 as color_name\n",
    "    color_name = cols[1].getText() \n",
    "    # store the value in column 4 as color_code\n",
    "    color_code = cols[3].getText() \n",
    "    df = df.append({'A' : color_name, 'B' :color_code}, ignore_index=True)\n",
    "df.drop(index=df.index[0], axis=0, inplace=True)\n",
    "df"
   ]
  },
  {
   "cell_type": "code",
   "execution_count": 9,
   "id": "9a0fa3dc",
   "metadata": {},
   "outputs": [],
   "source": [
    "from selenium import webdriver\n",
    "from time import sleep"
   ]
  },
  {
   "cell_type": "code",
   "execution_count": 10,
   "id": "82144c9a",
   "metadata": {},
   "outputs": [
    {
     "name": "stderr",
     "output_type": "stream",
     "text": [
      "C:\\Users\\ddtha\\AppData\\Local\\Temp/ipykernel_10252/1412983424.py:2: DeprecationWarning: executable_path has been deprecated, please pass in a Service object\n",
      "  browser=webdriver.Chrome(executable_path=\"C:/Users/ddtha/Downloads/chromedriver_win32/chromedriver.exe\")\n"
     ]
    }
   ],
   "source": [
    "#1.Khai bao biến browser\n",
    "browser=webdriver.Chrome(executable_path=\"C:/Users/ddtha/Downloads/chromedriver_win32/chromedriver.exe\")\n",
    "#2.Mo thu mot trang web\n",
    "browser.get(\"https://www.facebook.com\")\n",
    "#3.Dung chuong trinh 5s\n",
    "sleep(10)\n",
    "#4.Dong trinh duyet\n",
    "browser.close()\n"
   ]
  },
  {
   "cell_type": "code",
   "execution_count": null,
   "id": "a03494bf",
   "metadata": {},
   "outputs": [],
   "source": []
  }
 ],
 "metadata": {
  "kernelspec": {
   "display_name": "Python 3 (ipykernel)",
   "language": "python",
   "name": "python3"
  },
  "language_info": {
   "codemirror_mode": {
    "name": "ipython",
    "version": 3
   },
   "file_extension": ".py",
   "mimetype": "text/x-python",
   "name": "python",
   "nbconvert_exporter": "python",
   "pygments_lexer": "ipython3",
   "version": "3.9.7"
  }
 },
 "nbformat": 4,
 "nbformat_minor": 5
}
